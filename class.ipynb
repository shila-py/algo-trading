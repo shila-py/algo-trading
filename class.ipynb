{
  "nbformat": 4,
  "nbformat_minor": 0,
  "metadata": {
    "colab": {
      "provenance": [],
      "authorship_tag": "ABX9TyNf4ntOK0kE36X0RQsunvCm",
      "include_colab_link": true
    },
    "kernelspec": {
      "name": "python3",
      "display_name": "Python 3"
    },
    "language_info": {
      "name": "python"
    }
  },
  "cells": [
    {
      "cell_type": "markdown",
      "metadata": {
        "id": "view-in-github",
        "colab_type": "text"
      },
      "source": [
        "<a href=\"https://colab.research.google.com/github/shila-py/algo-trading/blob/main/class.ipynb\" target=\"_parent\"><img src=\"https://colab.research.google.com/assets/colab-badge.svg\" alt=\"Open In Colab\"/></a>"
      ]
    },
    {
      "cell_type": "code",
      "execution_count": null,
      "metadata": {
        "colab": {
          "base_uri": "https://localhost:8080/",
          "height": 106
        },
        "id": "CWDnj0Cid_Xl",
        "outputId": "d34f32a9-6eea-411c-d43e-0061f823b827"
      },
      "outputs": [
        {
          "output_type": "error",
          "ename": "IndentationError",
          "evalue": "unexpected indent (<ipython-input-17-55d0e3846e1f>, line 14)",
          "traceback": [
            "\u001b[0;36m  File \u001b[0;32m\"<ipython-input-17-55d0e3846e1f>\"\u001b[0;36m, line \u001b[0;32m14\u001b[0m\n\u001b[0;31m    def which_busy(self,is_busy,name):\u001b[0m\n\u001b[0m    ^\u001b[0m\n\u001b[0;31mIndentationError\u001b[0m\u001b[0;31m:\u001b[0m unexpected indent\n"
          ]
        }
      ],
      "source": [
        "class garson:\n",
        " def __init__(self,name,is_busy,tables):\n",
        "    self.name=name\n",
        "    self.is_busy=is_busy\n",
        "    self.tables=tables\n",
        " def get_order (self,table,order):\n",
        "    out=f\"hey barista {table},{order} sefaresh dade.\"\n",
        "    self.is_busy = True\n",
        "    self.tables.append(table)\n",
        "    return out\n",
        "not_busy_list =[]\n",
        "busy_list =[]\n",
        "\n",
        " def which_busy(self,is_busy,name):\n",
        "    for i in gar_list:\n",
        "      if is_busy ==False :\n",
        "        self.name.append(not_busy_list)\n",
        "      else:\n",
        "        self.name.append(busy_list)\n",
        "    return(not_busy_list,busy_list)\n",
        "\n",
        " def check(self,table,cost):\n",
        "    finish =f\"salam {table}.omidvaram razi bashin.surathesabe shoma {cost}\"\n",
        "    self.is_busy = False\n",
        "    self.tables.remove(table)\n",
        "    return finish\n",
        "\n",
        "\n",
        "gar1=garson(\"a\",True,[2,4])\n",
        "gar2=garson(\"b\",True,[3,5])\n",
        "gar3=garson(\"c\",False,[])\n",
        "gar4=garson(\"d\",False,[])\n",
        "gar5=garson(\"e\",True,[10,11])\n",
        "gar6=garson(\"f\",True,[12,13])\n",
        "gar_list = [gar1,gar2,gar3,gar4,gar5,gar6]\n",
        "\n"
      ]
    },
    {
      "cell_type": "code",
      "source": [
        "class Book:\n",
        "  def __init__(self,title,auther):\n",
        "    self.title=title\n",
        "    self.auther=auther\n",
        "    self.is_borrowed = False\n",
        "    self.borrower = None"
      ],
      "metadata": {
        "id": "dEoAnKtIe-_Z"
      },
      "execution_count": null,
      "outputs": []
    },
    {
      "cell_type": "code",
      "source": [
        "class Library:\n",
        "\n",
        "  def __init__(self):\n",
        "    self.books=[]\n",
        "\n",
        "\n",
        "  def borrow_book(self,title,borrower):\n",
        "    book = self.search_book (title)\n",
        "    if book == None :\n",
        "      print (f\"{title} dar ketabkhane mojud nist.\")\n",
        "    else:\n",
        "      if book.is_borrowed == False:\n",
        "        print (f\" {book.title} be {borrower} tahvil dade shod.\")\n",
        "        book.is_borrowed = True\n",
        "        book.borrower = borrower\n",
        "      else:\n",
        "        print(f\"{book.title } gablan amanat dade shode\")\n",
        "\n",
        "  def add_book(self,book):\n",
        "    self.books.append(book)\n",
        "    return\n",
        "\n",
        "  def search_book(self,title):\n",
        "    for book in self.books:\n",
        "      if book.title == title:\n",
        "        return book\n",
        "\n",
        "    return None\n",
        "\n",
        "\n",
        "  def retun_book(self,title) :\n",
        "    book = self.search_book(title)\n",
        "    book.is_borrowed = False\n",
        "    print(f\"{book.title} tavasote {borrower } be ketabkhane tahvil shod.\")\n",
        "    book .borrower = None\n",
        "\n",
        "\n",
        "\n",
        "book1=  Book (\"a\" ,\"b\")\n",
        "book2=  Book (\"c\" ,\"d\")\n",
        "book3=  Book (\"e\" ,\"f\")\n",
        "library = Library()\n",
        "library.add_book(book1)\n",
        "library.add_book(book2)\n",
        "library.add_book(book3)\n",
        "title= input(\"esme ketab?\")\n",
        "borrower=input (\"esmet ?\")\n",
        "library.borrow_book(title,borrower)\n",
        "library.retun_book(title)\n"
      ],
      "metadata": {
        "colab": {
          "base_uri": "https://localhost:8080/"
        },
        "id": "W-gVlhNHfrDt",
        "outputId": "ac54428c-c4bb-4876-de05-312ef4d1c3cc"
      },
      "execution_count": null,
      "outputs": [
        {
          "output_type": "stream",
          "name": "stdout",
          "text": [
            "esme ketab?a\n",
            "esmet ?t\n",
            " a be t tahvil dade shod.\n",
            "a tavasote t be ketabkhane tahvil shod.\n"
          ]
        }
      ]
    }
  ]
}